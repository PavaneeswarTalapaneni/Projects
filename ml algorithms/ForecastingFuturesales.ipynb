{
 "cells": [
  {
   "cell_type": "markdown",
   "metadata": {},
   "source": [
    "Arima and Seasonal Arima\n",
    "\n",
    "Autoregressive Integrated Moving Averages\n",
    "\n",
    "The general process foe Arima:\n",
    "1. visualize the time series data\n",
    "2. make the time series data stationary\n",
    "3. Plot the correlation and Auto correlation charts\n",
    "4. Construct Arima model or seasonal Arima modle based on the data\n",
    "5. use the model to make predictions\n"
   ]
  },
  {
   "cell_type": "code",
   "execution_count": null,
   "metadata": {},
   "outputs": [],
   "source": [
    "# Import modules\n",
    "import pandas as pd\n",
    "import matplotlib.pyplot as plt\n",
    "\n",
    "# Load in the time series\n",
    "candy = pd.read_csv('candy_production.csv', \n",
    "            index_col='date',\n",
    "            parse_dates=True)\n",
    "\n",
    "# Plot and show the time series on axis ax1\n",
    "fig, ax1 = plt.subplots()\n",
    "candy.plot(ax=ax1)\n",
    "plt.show()"
   ]
  },
  {
   "cell_type": "code",
   "execution_count": null,
   "metadata": {},
   "outputs": [],
   "source": [
    "# Split the data into a train and test set\n",
    "candy_train = candy.loc[:'2006']\n",
    "candy_test = candy.loc['2007':]\n",
    "\n",
    "# Create an axis\n",
    "fig, ax = plt.subplots()\n",
    "\n",
    "# Plot the train and test sets on the axis ax\n",
    "candy_train.plot(ax=ax)\n",
    "candy_test.plot(ax=ax)\n",
    "plt.show()"
   ]
  },
  {
   "cell_type": "markdown",
   "metadata": {},
   "source": [
    "Take a look at the plot, do you think that you yourself could predict what happens after 2006 given the blue training set. What happens to the long term trend and the seasonal pattern?Identifying whether a time series is stationary or non-stationary is very important. If it is stationary you can use ARMA models to predict the next values of the time series. If it is non-stationary then you cannot use ARMA models you can often transform non-stationary time series to stationary ones.\n",
    "\n"
   ]
  },
  {
   "cell_type": "markdown",
   "metadata": {},
   "source": [
    "Most common test is Augumented Dicky fuller test.Test for trend non statioanrity. Null hypothesis is time series in non stationarity. The result object after running adfuller test is a Tuple.\n",
    "Zeroth element is the test statistic. The more negative the number is the more likely to be stationary.The next one is P value. If p value less than 0.05, we can reject null hypothesis.\n",
    "Dicky fuller only test for trend stationarity. Transforming stationary to non stationary is similar to feature engineering. On every common way to make a series stationary is by taking the difference from previous values.\n"
   ]
  },
  {
   "cell_type": "code",
   "execution_count": null,
   "metadata": {},
   "outputs": [],
   "source": [
    "# Run test\n",
    "result = adfuller(earthquake)\n",
    "\n",
    "# Print test statistic\n",
    "print(result[0])\n",
    "\n",
    "# Print p-value\n",
    "print(result[1])\n",
    "\n",
    "# Print critical values\n",
    "print(result[4]) "
   ]
  },
  {
   "cell_type": "code",
   "execution_count": null,
   "metadata": {},
   "outputs": [],
   "source": [
    "# Calculate the second difference of the time series\n",
    "city_stationary = city.diff().diff().dropna()\n",
    "\n",
    "# Run ADF test on the differenced time series\n",
    "result = adfuller(city_stationary['city_population'])\n",
    "\n",
    "# Plot the differenced time series\n",
    "fig, ax = plt.subplots()\n",
    "city_stationary.plot(ax=ax)\n",
    "plt.show()\n",
    "\n",
    "# Print the test statistic and the p-value\n",
    "print('ADF Statistic:', result[0])\n",
    "print('p-value:', result[1])"
   ]
  },
  {
   "cell_type": "markdown",
   "metadata": {},
   "source": [
    "Notice that both the differenced and the log-return transformed time series have a small p-value, but the log transformed time series has a much more negative test statistic. This means the log-return tranformation is better."
   ]
  },
  {
   "cell_type": "code",
   "execution_count": null,
   "metadata": {},
   "outputs": [],
   "source": [
    "# Calculate the first difference and drop the nans\n",
    "amazon_diff = amazon.diff()\n",
    "amazon_diff = amazon_diff.dropna()\n",
    "\n",
    "# Run test and print\n",
    "result_diff = adfuller(amazon_diff['close'])\n",
    "print(result_diff)\n",
    "\n",
    "# Calculate log-return and drop nans\n",
    "amazon_log = np.log(amazon / amazon.shift(1))\n",
    "amazon_log = amazon_log.dropna()\n",
    "\n",
    "# Run test and print\n",
    "result_log = adfuller(amazon_log['close'])\n",
    "print(result_log)"
   ]
  },
  {
   "cell_type": "markdown",
   "metadata": {},
   "source": [
    "AR- Auto Regressive (Yt=a1(Yt-1 + e) we regress the values of time series against previous values of same time series. It also contains a shock term which is white noise(e). a1 is the auto regressive coefficient.\n",
    "MA (Moving averages)- we regress the shock series, with the previos shock values (lag values or error values)"
   ]
  },
  {
   "cell_type": "code",
   "execution_count": null,
   "metadata": {},
   "outputs": [],
   "source": [
    "# Import the ARIMA model\n",
    "from statsmodels.tsa.arima.model import ARIMA\n",
    "\n",
    "# Instantiate the model\n",
    "model = ARIMA(y, order=(1,0,1))\n",
    "\n",
    "# Fit the model\n",
    "results = model.fit()"
   ]
  },
  {
   "cell_type": "code",
   "execution_count": null,
   "metadata": {},
   "outputs": [],
   "source": []
  },
  {
   "cell_type": "code",
   "execution_count": null,
   "metadata": {},
   "outputs": [],
   "source": []
  },
  {
   "cell_type": "code",
   "execution_count": null,
   "metadata": {},
   "outputs": [],
   "source": []
  },
  {
   "cell_type": "code",
   "execution_count": null,
   "metadata": {},
   "outputs": [],
   "source": []
  },
  {
   "cell_type": "code",
   "execution_count": null,
   "metadata": {},
   "outputs": [],
   "source": []
  },
  {
   "cell_type": "code",
   "execution_count": null,
   "metadata": {},
   "outputs": [],
   "source": []
  }
 ],
 "metadata": {
  "kernelspec": {
   "display_name": ".venv",
   "language": "python",
   "name": "python3"
  },
  "language_info": {
   "name": "python",
   "version": "3.12.1"
  }
 },
 "nbformat": 4,
 "nbformat_minor": 2
}
